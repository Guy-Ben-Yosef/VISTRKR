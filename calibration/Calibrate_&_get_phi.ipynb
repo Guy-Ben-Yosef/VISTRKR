{
 "cells": [
  {
   "cell_type": "code",
   "execution_count": 1,
   "id": "764e2eb1",
   "metadata": {},
   "outputs": [
    {
     "data": {
      "text/html": [
       "<style>.container { width:90% !important; }</style>"
      ],
      "text/plain": [
       "<IPython.core.display.HTML object>"
      ]
     },
     "metadata": {},
     "output_type": "display_data"
    }
   ],
   "source": [
    "from IPython.display import display, HTML\n",
    "display(HTML(\"<style>.container { width:90% !important; }</style>\"))\n",
    "\n",
    "import numpy as np\n",
    "import pandas as pd\n",
    "import matplotlib.pyplot as plt\n",
    "\n",
    "from my_functions import lin_pix2ang, get_calib_params"
   ]
  },
  {
   "cell_type": "code",
   "execution_count": 2,
   "id": "855523a0",
   "metadata": {},
   "outputs": [],
   "source": [
    "base_locations = {\n",
    "                'O':(0,0),\n",
    "                'Ax':(5,0), 'Bx':(10,0), 'Cx':(15,0), 'Dx':(20,0), \n",
    "                'Ay':(0,5), 'By':(0,10), 'Cy':(0,15), 'Dy':(0,20)\n",
    "                 }\n",
    "\n",
    "p_i_locations = {'p00': (5.03165194, 4.57002236),\n",
    "                 'p01': (10.05731099, 4.18868622),\n",
    "                 'p02': (15.05415693, 3.8242844),\n",
    "                 'p03': None,\n",
    "                 'p04': (15.59769377, 7.92667846),\n",
    "                 'p05': (10.6052719 , 8.90105175),\n",
    "                 'p06': None,\n",
    "                 'p07': (5.4749749, 12.78020853),\n",
    "                 'p08': (10.40416000, 19.3472800),\n",
    "                 'p09': (10.74525086, 12.43331534),\n",
    "                 'p10': (14.89773678, 13.35647657),\n",
    "                 'p11': (18.40970773, 18.49790679)\n",
    "                }\n",
    "\n",
    "data_By = {'p00':(4131, 4172), 'p01':(3515, -1  ), 'p02':(3221, 3241),\n",
    "           'p03':(3049, 3062), 'p04':(2613, 2647), 'p05':(2553, 2593),\n",
    "           'p06':(2586, 2623), 'p07':(1249, 1274), 'p08':(700,  715 ),\n",
    "           'p09':(1835, 1853), 'p10':(1848, 1859), 'p11':(1373, 1385), 'a':0\n",
    "          }\n",
    "\n",
    "data_Dx = {'p00':(960 , 966 ), 'p01':(1180, 1183), 'p02':(1757, 1748),\n",
    "           'p03':(3706, 3693), 'p04':(2680, 2667), 'p05':(1988, 1974),\n",
    "           'p06':(1556, 1547), 'p07':(1910, 1903), 'p08':(2764, 2752),\n",
    "           'p09':(2379, 2368), 'p10':(2990, 2982), 'p11':(3601, 3595), 'a':135\n",
    "          }\n",
    "\n",
    "data_O =  {'p00':(3037, 3038), 'p01':(3791, 3791), 'p02':(4110, 4107),\n",
    "           'p03':(4243, 4245), 'p04':(3617, 3613), 'p05':(3115, 3122),\n",
    "           'p06':(2323, 2320), 'p07':(2065, 2052), 'p08':(2245, 2235),\n",
    "           'p09':(2756, 2736), 'p10':(3037, 3032), 'p11':(2892, 2899), 'a':45\n",
    "          }\n",
    "\n",
    "data = {'By':data_By, 'Dx':data_Dx, 'O':data_O}"
   ]
  },
  {
   "cell_type": "code",
   "execution_count": null,
   "id": "8c3ba23a",
   "metadata": {},
   "outputs": [],
   "source": [
    "%matplotlib notebook\n",
    "# %matplotlib inline\n",
    "\n",
    "# Initialize the result array with nan values\n",
    "result = np.zeros([4, len(p_i_locations)])  # first row -- expected values, second row -- measured values in pixels\n",
    "result[:] = np.nan\n",
    "# Populate the final row of the result array with indices\n",
    "for i in range(result.shape[1]):\n",
    "    result[-1, i] = i\n",
    "\n",
    "cam = 'Dx'\n",
    "cam_data = data[cam]\n",
    "for i in range(result.shape[1]):  # Iterate over the points\n",
    "    p = f'p{i:02d}'  # Format the point name as a string\n",
    "    if p_i_locations[p] is None:  #  Skip the point if its location is not available\n",
    "        continue\n",
    "    # EXPECTED AZIMUTH:\n",
    "    dx = p_i_locations[p][0] - base_locations[cam][0]  # Calculate the difference in x coordinates\n",
    "    dy = p_i_locations[p][1] - base_locations[cam][1]  # Calculate the difference in y coordinates\n",
    "    az = np.rad2deg(np.arctan2(dy, dx)) - cam_data['a']  # Calculate the azimuth angle\n",
    "    result[0, i] = az  # Store the expected azimuth angle in the result array\n",
    "    result[1, i] = cam_data[p][0]  # Store the measured 1st round in the result array\n",
    "    result[2, i] = cam_data[p][1]  # Store the measured 2nd round in the result array\n",
    "    \n",
    "# Sort the result array by the expected azimuth angles\n",
    "result = result[:, np.argsort(result[0,:])]\n",
    "\n",
    "# Remove rows with nan values at the end of the result array\n",
    "while all(np.isnan(result[:-1, -1])):\n",
    "    result = result[:, :-1]\n",
    "\n",
    "# Get the calibration parameters for the first round\n",
    "m, b, R2, mask_non_calib = get_calib_params(result, 1)\n",
    "    \n",
    "# Create a figure and axes\n",
    "fig, ax = plt.subplots(figsize=(11,6))\n",
    "\n",
    "# Plot the calibrated angles for the first and second rounds against the expected azimuth angles\n",
    "ax.plot(result[1, :][result[1, :]>=0], result[0,:][result[1, :]>=0], ls='None', marker='o', label='Round 1')\n",
    "ax.plot(result[2, :][result[2, :]>=0], result[0,:][result[2, :]>=0], ls='None', marker='*', label='Round 2')\n",
    "xVec = np.array([0, 4608])\n",
    "ax.plot(xVec, (xVec-b)/m, color='red', ls='--', lw=.7, label='Linear Fit (to round 1)')  # Add a reference line\n",
    "\n",
    "# Add labels to the points\n",
    "for i in range(result.shape[1]):\n",
    "    c = 'k'\n",
    "    if (i == 0) or (i == result.shape[1]-1) or (i == result.shape[1]//2): #  paint gray points used for calibration\n",
    "        c = 'gray'\n",
    "    if not any(np.isnan(result[:2, i])):\n",
    "        ax.text(result[1, i], result[0, i], r'$p_{'+f'{int(result[3,i]):02d}'+r'}$', ha='left', va='top', color=c)\n",
    "\n",
    "# Add grid and axis labels\n",
    "ax.grid()\n",
    "ax.legend()\n",
    "ax.set_xlabel(r'Measured pixel', fontsize=14)\n",
    "ax.set_ylabel(r'Expected Angle $\\varphi$ [deg]', fontsize=14)\n",
    "\n",
    "props = dict(boxstyle='round', facecolor='wheat', alpha=0.5)\n",
    "ax.text(0.12, 0.06, r'$y={:.03f}x{:+.03f}$'.format(m,b)+'\\n'+r'$R^2={:.03f}$'.format(R2), ha = 'center', va = 'center', transform = ax.transAxes,\n",
    "     bbox=props)\n",
    "\n",
    "# Display the plot\n",
    "plt.show()\n",
    "plt.savefig('uncalibrated_{}.png'.format(cam), dpi=900)"
   ]
  }
 ],
 "metadata": {
  "kernelspec": {
   "display_name": "Python 3 (ipykernel)",
   "language": "python",
   "name": "python3"
  },
  "language_info": {
   "codemirror_mode": {
    "name": "ipython",
    "version": 3
   },
   "file_extension": ".py",
   "mimetype": "text/x-python",
   "name": "python",
   "nbconvert_exporter": "python",
   "pygments_lexer": "ipython3",
   "version": "3.9.7"
  }
 },
 "nbformat": 4,
 "nbformat_minor": 5
}
